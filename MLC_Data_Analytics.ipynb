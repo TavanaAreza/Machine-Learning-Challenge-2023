{
  "cells": [
    {
      "cell_type": "code",
      "execution_count": 1,
      "metadata": {
        "colab": {
          "base_uri": "https://localhost:8080/"
        },
        "id": "pUlO3Ni0jFP6",
        "outputId": "b1b5ea84-51d4-41ad-eb05-e377086bb7c7"
      },
      "outputs": [
        {
          "output_type": "stream",
          "name": "stdout",
          "text": [
            "Looking in indexes: https://pypi.org/simple, https://us-python.pkg.dev/colab-wheels/public/simple/\n",
            "Collecting kmodes\n",
            "  Downloading kmodes-0.12.2-py2.py3-none-any.whl (20 kB)\n",
            "Requirement already satisfied: numpy>=1.10.4 in /usr/local/lib/python3.10/dist-packages (from kmodes) (1.22.4)\n",
            "Requirement already satisfied: scikit-learn>=0.22.0 in /usr/local/lib/python3.10/dist-packages (from kmodes) (1.2.2)\n",
            "Requirement already satisfied: scipy>=0.13.3 in /usr/local/lib/python3.10/dist-packages (from kmodes) (1.10.1)\n",
            "Requirement already satisfied: joblib>=0.11 in /usr/local/lib/python3.10/dist-packages (from kmodes) (1.2.0)\n",
            "Requirement already satisfied: threadpoolctl>=2.0.0 in /usr/local/lib/python3.10/dist-packages (from scikit-learn>=0.22.0->kmodes) (3.1.0)\n",
            "Installing collected packages: kmodes\n",
            "Successfully installed kmodes-0.12.2\n"
          ]
        }
      ],
      "source": [
        "!pip install kmodes\n",
        "# pandas, numpy, sklearn"
      ]
    },
    {
      "cell_type": "code",
      "execution_count": 2,
      "metadata": {
        "id": "h8H7gF7DjFP8"
      },
      "outputs": [],
      "source": [
        "import pandas as pd\n",
        "import numpy as np\n",
        "import matplotlib.pyplot as plt\n",
        "from sklearn.cluster import KMeans\n",
        "from kmodes.kmodes import KModes"
      ]
    },
    {
      "cell_type": "code",
      "execution_count": 3,
      "metadata": {
        "colab": {
          "base_uri": "https://localhost:8080/"
        },
        "id": "hc66vxI0jFP8",
        "outputId": "504b0376-8056-4fe2-d712-919de1be3d84"
      },
      "outputs": [
        {
          "output_type": "stream",
          "name": "stderr",
          "text": [
            "/usr/local/lib/python3.10/dist-packages/sklearn/cluster/_kmeans.py:870: FutureWarning: The default value of `n_init` will change from 10 to 'auto' in 1.4. Set the value of `n_init` explicitly to suppress the warning\n",
            "  warnings.warn(\n",
            "/usr/local/lib/python3.10/dist-packages/sklearn/cluster/_kmeans.py:870: FutureWarning: The default value of `n_init` will change from 10 to 'auto' in 1.4. Set the value of `n_init` explicitly to suppress the warning\n",
            "  warnings.warn(\n",
            "/usr/local/lib/python3.10/dist-packages/sklearn/cluster/_kmeans.py:870: FutureWarning: The default value of `n_init` will change from 10 to 'auto' in 1.4. Set the value of `n_init` explicitly to suppress the warning\n",
            "  warnings.warn(\n"
          ]
        }
      ],
      "source": [
        "df = pd.read_csv(\"dataset.csv\")\n",
        "\n",
        "effort_clustering = KMeans(n_clusters=2, random_state=0).fit(df[['time_online', 'video_clicks']])\n",
        "df['effort'] = effort_clustering.labels_\n",
        "\n",
        "proactivity_clustering = KMeans(n_clusters=2, random_state=0).fit(df[['content_anticipation', 'delay_lectures']])\n",
        "df['proactivity'] = proactivity_clustering.labels_\n",
        "\n",
        "control_clustering = KMeans(n_clusters=2, random_state=0).fit(df[['fraction_spent']])\n",
        "df['control'] = control_clustering.labels_\n",
        "\n",
        "df.to_csv(\"dataset_clustered.csv\", index=False)"
      ]
    },
    {
      "cell_type": "code",
      "execution_count": 4,
      "metadata": {
        "id": "W3iz4Iz_jFP9"
      },
      "outputs": [],
      "source": [
        "k_modes = KModes(n_clusters=4)\n",
        "clusters = k_modes.fit_predict(df[['effort', 'proactivity', 'control']])\n",
        "df['profile'] = clusters\n",
        "df.to_csv(\"dataset_clustered.csv\", index=False)"
      ]
    },
    {
      "cell_type": "markdown",
      "source": [
        "## Part a"
      ],
      "metadata": {
        "id": "eZbljvIdvbOT"
      }
    },
    {
      "cell_type": "code",
      "execution_count": 105,
      "metadata": {
        "id": "rSazaOyqjFP9"
      },
      "outputs": [],
      "source": [
        "import torch\n",
        "import torch.nn as nn\n",
        "import torch.nn.functional as F\n",
        "import torch.optim as optim\n",
        "from sklearn.model_selection import train_test_split\n",
        "from sklearn.preprocessing import StandardScaler\n",
        "\n",
        "features = df[[\"time_online\", \"video_clicks\", \"content_anticipation\", \"delay_lectures\", \"fraction_spent\"]].values\n",
        "target = df['grade'].values\n",
        "\n",
        "scaler = StandardScaler()\n",
        "features = scaler.fit_transform(features)\n",
        "\n",
        "X_train, X_test, y_train, y_test = train_test_split(features, target, test_size=0.2, random_state=0)\n",
        "\n",
        "X_train = torch.Tensor(X_train)\n",
        "y_train = torch.Tensor(y_train).unsqueeze(1)\n",
        "X_test = torch.Tensor(X_test)\n",
        "y_test = torch.Tensor(y_test).unsqueeze(1)\n",
        "\n",
        "class Net(nn.Module):\n",
        "    def __init__(self, input_size):\n",
        "        super(Net, self).__init__()\n",
        "        self.fc1 = nn.Linear(input_size, 10)\n",
        "        self.fc2 = nn.Linear(10, 8)\n",
        "        self.fc3 = nn.Linear(8, 1)\n",
        "\n",
        "    def forward(self, x):\n",
        "        x = torch.relu(self.fc1(x))\n",
        "        x = torch.relu(self.fc2(x))\n",
        "        x = self.fc3(x)\n",
        "        return x\n",
        "\n",
        "input_size = features.shape[1]\n",
        "model = Net(input_size)\n",
        "\n",
        "criterion = nn.MSELoss()\n",
        "optimizer = optim.Adam(model.parameters(), lr=0.01)\n",
        "\n",
        "for i in range(10000):\n",
        "    outputs = model(X_train)\n",
        "    loss = criterion(outputs, y_train)\n",
        "    optimizer.zero_grad()\n",
        "    loss.backward()\n",
        "    optimizer.step()"
      ]
    },
    {
      "cell_type": "code",
      "execution_count": 106,
      "metadata": {
        "colab": {
          "base_uri": "https://localhost:8080/"
        },
        "id": "hJ0KchImjFP9",
        "outputId": "70dac9e8-4332-442c-aea4-8c6b57335b28"
      },
      "outputs": [
        {
          "output_type": "stream",
          "name": "stdout",
          "text": [
            "1.0761206150054932\n"
          ]
        }
      ],
      "source": [
        "model.eval()\n",
        "with torch.no_grad():\n",
        "    y_pred = model(X_test)\n",
        "    mse_nn_raw = F.mse_loss(y_pred, y_test)\n",
        "    print(mse_nn_raw.item())"
      ]
    },
    {
      "cell_type": "code",
      "source": [
        "features = df[[\"effort\", \"proactivity\", \"control\", \"profile\"]].values\n",
        "target = df['grade'].values\n",
        "\n",
        "scaler = StandardScaler()\n",
        "features = scaler.fit_transform(features)\n",
        "\n",
        "X_train, X_test, y_train, y_test = train_test_split(features, target, test_size=0.2, random_state=0)\n",
        "\n",
        "X_train = torch.Tensor(X_train)\n",
        "y_train = torch.Tensor(y_train).unsqueeze(1)\n",
        "X_test = torch.Tensor(X_test)\n",
        "y_test = torch.Tensor(y_test).unsqueeze(1)\n",
        "\n",
        "class Net(nn.Module):\n",
        "    def __init__(self, input_size):\n",
        "        super(Net, self).__init__()\n",
        "        self.fc1 = nn.Linear(input_size, 10)\n",
        "        self.fc2 = nn.Linear(10, 8)\n",
        "        self.fc3 = nn.Linear(8, 1)\n",
        "\n",
        "    def forward(self, x):\n",
        "        x = torch.relu(self.fc1(x))\n",
        "        x = torch.relu(self.fc2(x))\n",
        "        x = self.fc3(x)\n",
        "        return x\n",
        "\n",
        "input_size = features.shape[1]\n",
        "model = Net(input_size)\n",
        "\n",
        "criterion = nn.MSELoss()\n",
        "optimizer = optim.Adam(model.parameters(), lr=0.01)\n",
        "\n",
        "for i in range(10000):\n",
        "    outputs = model(X_train)\n",
        "    loss = criterion(outputs, y_train)\n",
        "    optimizer.zero_grad()\n",
        "    loss.backward()\n",
        "    optimizer.step()"
      ],
      "metadata": {
        "id": "TOlP4-KbtBSf"
      },
      "execution_count": 107,
      "outputs": []
    },
    {
      "cell_type": "code",
      "source": [
        "model.eval()\n",
        "with torch.no_grad():\n",
        "    y_pred = model(X_test)\n",
        "    mse_nn_clustered = F.mse_loss(y_pred, y_test)\n",
        "    print(mse_nn_clustered.item())"
      ],
      "metadata": {
        "colab": {
          "base_uri": "https://localhost:8080/"
        },
        "id": "kw7B6U0qtOEd",
        "outputId": "177ae665-3a4c-4fcb-b42f-85b4f9ac1666"
      },
      "execution_count": 108,
      "outputs": [
        {
          "output_type": "stream",
          "name": "stdout",
          "text": [
            "0.8698803186416626\n"
          ]
        }
      ]
    },
    {
      "cell_type": "markdown",
      "source": [
        "## Part b\n",
        "As it can be seen the MSE of the second approach with was prediction base on the clusters, is lower than the raw values. It shows that the second approach is trained better to predict grades of students base on their clustered features."
      ],
      "metadata": {
        "id": "YCSN8Oc2vC-J"
      }
    },
    {
      "cell_type": "markdown",
      "source": [
        "## Part c\n",
        "In this part we use two classical approaches for predicting grades of students the raw and clustered features. The the plot of comparation of the MSEs are can be seen in the last cell."
      ],
      "metadata": {
        "id": "f6HHivW2viQj"
      }
    },
    {
      "cell_type": "markdown",
      "source": [
        "#### Linear Regression Model"
      ],
      "metadata": {
        "id": "h5iZO1Rk4CHI"
      }
    },
    {
      "cell_type": "code",
      "source": [
        "###### Classic LinearRegression Model Training on raw values\n",
        "from sklearn.linear_model import LinearRegression\n",
        "from sklearn.metrics import mean_absolute_error,mean_squared_error\n",
        "features = df[[\"time_online\", \"video_clicks\", \"content_anticipation\", \"delay_lectures\", \"fraction_spent\"]].values\n",
        "target = df['grade'].values\n",
        "\n",
        "scaler = StandardScaler()\n",
        "features = scaler.fit_transform(features)\n",
        "\n",
        "X_train, X_test, y_train, y_test = train_test_split(features, target, test_size=0.2, random_state=0)\n",
        "\n",
        "X_train = torch.Tensor(X_train)\n",
        "y_train = torch.Tensor(y_train).unsqueeze(1)\n",
        "X_test = torch.Tensor(X_test)\n",
        "y_test = torch.Tensor(y_test).unsqueeze(1)\n",
        "\n",
        "linearRegress = LinearRegression()\n",
        "linearRegress.fit(X_train, y_train)\n",
        "pred_logres = linearRegress.predict(X_test)\n",
        "y_pred = linearRegress.predict(X_test)\n",
        "mse_linearRegress_raw = mean_squared_error(y_true=y_test,y_pred=y_pred)\n",
        "print(mse_linearRegress_raw.item())"
      ],
      "metadata": {
        "colab": {
          "base_uri": "https://localhost:8080/"
        },
        "id": "RnhWJchkvlyE",
        "outputId": "10b39e6a-4f77-4da4-e13f-281647d219f6"
      },
      "execution_count": 109,
      "outputs": [
        {
          "output_type": "stream",
          "name": "stdout",
          "text": [
            "1.0487464666366577\n"
          ]
        }
      ]
    },
    {
      "cell_type": "code",
      "source": [
        "###### Classic LinearRegression Model Training on clustered values\n",
        "from sklearn.linear_model import LinearRegression\n",
        "from sklearn.metrics import mean_absolute_error,mean_squared_error\n",
        "features = df[[\"effort\", \"proactivity\", \"control\", \"profile\"]].values\n",
        "target = df['grade'].values\n",
        "\n",
        "scaler = StandardScaler()\n",
        "features = scaler.fit_transform(features)\n",
        "\n",
        "X_train, X_test, y_train, y_test = train_test_split(features, target, test_size=0.2, random_state=0)\n",
        "\n",
        "X_train = torch.Tensor(X_train)\n",
        "y_train = torch.Tensor(y_train).unsqueeze(1)\n",
        "X_test = torch.Tensor(X_test)\n",
        "y_test = torch.Tensor(y_test).unsqueeze(1)\n",
        "\n",
        "linearRegress = LinearRegression()\n",
        "linearRegress.fit(X_train, y_train)\n",
        "pred_logres = linearRegress.predict(X_test)\n",
        "y_pred = linearRegress.predict(X_test)\n",
        "mse_linearRegress_clustered = mean_squared_error(y_true=y_test,y_pred=y_pred)\n",
        "print(mse_linearRegress_clustered.item())"
      ],
      "metadata": {
        "colab": {
          "base_uri": "https://localhost:8080/"
        },
        "id": "CikYV2as3bvO",
        "outputId": "ba01560e-12d2-4503-e39c-75c6be129b67"
      },
      "execution_count": 110,
      "outputs": [
        {
          "output_type": "stream",
          "name": "stdout",
          "text": [
            "0.8824803233146667\n"
          ]
        }
      ]
    },
    {
      "cell_type": "markdown",
      "source": [
        "#### Decision Tree Model"
      ],
      "metadata": {
        "id": "DZP3yWBk3-eq"
      }
    },
    {
      "cell_type": "code",
      "source": [
        "###### Classic Decision Tree Model Training on raw values\n",
        "from sklearn import tree\n",
        "from sklearn.linear_model import LinearRegression\n",
        "features = df[[\"time_online\", \"video_clicks\", \"content_anticipation\", \"delay_lectures\", \"fraction_spent\"]].values\n",
        "target = df['grade'].values\n",
        "\n",
        "scaler = StandardScaler()\n",
        "features = scaler.fit_transform(features)\n",
        "\n",
        "X_train, X_test, y_train, y_test = train_test_split(features, target, test_size=0.2, random_state=0)\n",
        "\n",
        "X_train = torch.Tensor(X_train)\n",
        "y_train = torch.Tensor(y_train).unsqueeze(1)\n",
        "X_test = torch.Tensor(X_test)\n",
        "y_test = torch.Tensor(y_test).unsqueeze(1)\n",
        "\n",
        "\n",
        "treeRegress = tree.DecisionTreeRegressor(max_depth = 3)\n",
        "treeRegress = treeRegress.fit(X_train, y_train)\n",
        "y_pred = treeRegress.predict(X_test)\n",
        "\n",
        "mse_treeRegress_raw = mean_squared_error(y_true=y_test,y_pred=y_pred)\n",
        "print(mse_treeRegress_raw.item())"
      ],
      "metadata": {
        "colab": {
          "base_uri": "https://localhost:8080/"
        },
        "id": "UmVQC9qo4Mtv",
        "outputId": "6ff76319-e82f-476e-a966-28982526320a"
      },
      "execution_count": 111,
      "outputs": [
        {
          "output_type": "stream",
          "name": "stdout",
          "text": [
            "0.9484816740471974\n"
          ]
        }
      ]
    },
    {
      "cell_type": "code",
      "source": [
        "###### Classic Decision Tree Model Training on clustered values\n",
        "from sklearn import tree\n",
        "from sklearn.linear_model import LinearRegression\n",
        "features = df[[\"effort\", \"proactivity\", \"control\", \"profile\"]].values\n",
        "target = df['grade'].values\n",
        "\n",
        "scaler = StandardScaler()\n",
        "features = scaler.fit_transform(features)\n",
        "\n",
        "X_train, X_test, y_train, y_test = train_test_split(features, target, test_size=0.2, random_state=0)\n",
        "\n",
        "X_train = torch.Tensor(X_train)\n",
        "y_train = torch.Tensor(y_train).unsqueeze(1)\n",
        "X_test = torch.Tensor(X_test)\n",
        "y_test = torch.Tensor(y_test).unsqueeze(1)\n",
        "\n",
        "\n",
        "treeRegress = tree.DecisionTreeRegressor(max_depth = 3)\n",
        "treeRegress = treeRegress.fit(X_train, y_train)\n",
        "y_pred = treeRegress.predict(X_test)\n",
        "\n",
        "mse_treeRegress_clustered = mean_squared_error(y_true=y_test,y_pred=y_pred)\n",
        "print(mse_treeRegress_clustered.item())"
      ],
      "metadata": {
        "colab": {
          "base_uri": "https://localhost:8080/"
        },
        "id": "IUHUbaCC6TJr",
        "outputId": "17adc16a-ece9-4c51-b587-961dbc412805"
      },
      "execution_count": 112,
      "outputs": [
        {
          "output_type": "stream",
          "name": "stdout",
          "text": [
            "0.8684040746751136\n"
          ]
        }
      ]
    },
    {
      "cell_type": "markdown",
      "source": [
        "#### Comparing Models\n",
        "In this part we plot MSEs of each models in both raw and clustered values to compare the models."
      ],
      "metadata": {
        "id": "6eEGi31d_V4A"
      }
    },
    {
      "cell_type": "code",
      "source": [
        "models_name = [\"NN-Raw\",\"NN_Clustered\",\"Regression-Raw\",\"Regression-Clustered\",\"DecisionTree-Raw\",\"DecisionTree-Clustered\"]\n",
        "MSEs = [mse_nn_raw, mse_nn_clustered,mse_linearRegress_raw,mse_linearRegress_clustered,mse_treeRegress_raw,mse_treeRegress_clustered]\n",
        "\n",
        "fig = plt.figure(figsize = (15, 5))\n",
        "\n",
        "plt.bar(models_name, MSEs, color ='maroon',\n",
        "        width = 0.3)\n",
        "\n",
        "plt.xlabel(\"Model\")\n",
        "plt.ylabel(\"MSE\")\n",
        "plt.title(\"Comparing MSEs of Models\")\n",
        "plt.show()"
      ],
      "metadata": {
        "colab": {
          "base_uri": "https://localhost:8080/",
          "height": 441
        },
        "id": "-MW1ZDQ3_mxc",
        "outputId": "e14a3030-4741-496d-a4f8-611fef82f863"
      },
      "execution_count": 121,
      "outputs": [
        {
          "output_type": "display_data",
          "data": {
            "text/plain": [
              "<Figure size 1500x500 with 1 Axes>"
            ],
            "image/png": "[encoded data removed]"
          },
          "metadata": {}
        }
      ]
    },
    {
      "cell_type": "markdown",
      "source": [
        "As it can be seen, in each model, predicting on clustered values has lower MSE rather than predicting on raw values. It shows that the models, has better accuracy on clustered values.\n",
        "\n",
        "As it can be seen we trained 3 models and each of them in 2 different set of features. As it can be seen the best model is decision tree on clustered values and the worst model is training with neural networks on raw values."
      ],
      "metadata": {
        "id": "DxcoNxjkGaqk"
      }
    }
  ],
  "metadata": {
    "kernelspec": {
      "display_name": "env_tf",
      "language": "python",
      "name": "python3"
    },
    "language_info": {
      "codemirror_mode": {
        "name": "ipython",
        "version": 3
      },
      "file_extension": ".py",
      "mimetype": "text/x-python",
      "name": "python",
      "nbconvert_exporter": "python",
      "pygments_lexer": "ipython3",
      "version": "3.9.12"
    },
    "orig_nbformat": 4,
    "colab": {
      "provenance": []
    }
  },
  "nbformat": 4,
  "nbformat_minor": 0
}